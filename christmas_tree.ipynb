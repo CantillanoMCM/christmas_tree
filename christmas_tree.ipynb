{
 "cells": [
  {
   "cell_type": "code",
   "execution_count": null,
   "metadata": {},
   "outputs": [],
   "source": [
    "from mpl_toolkits.mplot3d import Axes3D\n",
    "import numpy as np\n",
    "import matplotlib.pyplot as plt\n",
    "from math import exp,sin,cos\n",
    "from pylab import *\n",
    "import random\n",
    "\n",
    "tree_color = '#28cf75'\n",
    "star_color = '#fdfce3'\n",
    "star_color_edge = '#fce97f'\n",
    "back_color = '#272822'\n",
    "orn_color_a = '#16b8f7'\n",
    "orn_color_b = '#f77d7c'\n",
    "orn_color_c = '#fcfee2'\n",
    "\n",
    "christmas_tree_path = 'christmas_tree.jpg'\n",
    "\n",
    "fig = plt.figure()\n",
    "ax = fig.gca(projection='3d')\n",
    "a, b = 0.01, 0.02\n",
    "\n",
    "th = np.linspace(0, 150, 10000)  \n",
    "x = a * exp(b * th) * cos(th)\n",
    "y = a * exp(b * th) * sin(th)\n",
    "z = -1 * np.linspace(0, 2, 10000)\n",
    "\n",
    "ax.plot(x, y, z, color=tree_color)\n",
    "\n",
    "cf = random.choice(range(200, 400))\n",
    "ax.scatter(x[::cf], y[::cf], z[::cf], s=35, alpha=0.9, color=orn_color_a)\n",
    "\n",
    "bf = random.choice(range(100, 200))\n",
    "ax.scatter(x[::bf], y[::bf], z[::bf], s=30, alpha=0.9, color=orn_color_b)\n",
    "\n",
    "af = random.choice(range(50, 100))\n",
    "ax.scatter(x[::af], y[::af], z[::af], s=40, alpha=0.9, color=orn_color_c)\n",
    "\n",
    "ax.scatter(0, 0, 0.15, alpha=1, c=star_color, s=1050, marker='*', edgecolors=star_color_edge, linewidth=4)\n",
    "\n",
    "ax.set_axis_off()\n",
    "ax.set_facecolor(back_color)\n",
    "fig.patch.set_facecolor('w')\n",
    "fig.set_size_inches(10, 10, forward=True)\n",
    "\n",
    "plt.tight_layout()\n",
    "plt.savefig(christmas_tree_path)\n",
    "plt.show()"
   ]
  },
  {
   "cell_type": "code",
   "execution_count": null,
   "metadata": {},
   "outputs": [],
   "source": [
    "!pip install \"stereoscopy\""
   ]
  },
  {
   "cell_type": "code",
   "execution_count": null,
   "metadata": {},
   "outputs": [],
   "source": [
    "!StereoscoPy -A -R 800 0 -S 1 3 -a christmas_tree.jpg christmas_tree.jpg christmas_tree_prod.jpg"
   ]
  }
 ],
 "metadata": {
  "kernelspec": {
   "display_name": "Python 3",
   "language": "python",
   "name": "python3"
  },
  "language_info": {
   "codemirror_mode": {
    "name": "ipython",
    "version": 3
   },
   "file_extension": ".py",
   "mimetype": "text/x-python",
   "name": "python",
   "nbconvert_exporter": "python",
   "pygments_lexer": "ipython3",
   "version": "3.8.3"
  }
 },
 "nbformat": 4,
 "nbformat_minor": 4
}
